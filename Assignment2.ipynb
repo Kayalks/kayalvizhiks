{
 "cells": [
  {
   "cell_type": "markdown",
   "metadata": {},
   "source": [
    "# CS5920 - Assignment 2"
   ]
  },
  {
   "cell_type": "markdown",
   "metadata": {},
   "source": [
    "Marking Id:1240\n",
    "\n",
    "Report is built as per step 12: "
   ]
  },
  {
   "cell_type": "code",
   "execution_count": 1,
   "metadata": {},
   "outputs": [],
   "source": [
    "%matplotlib inline\n",
    "import matplotlib.pyplot as plt\n",
    "from sklearn.datasets import load_diabetes\n",
    "from sklearn.preprocessing import StandardScaler\n",
    "import numpy as np\n",
    "from sklearn.model_selection import train_test_split\n",
    "from sklearn.linear_model import Lasso\n",
    "from sklearn.model_selection import cross_val_score\n",
    "import pandas as pd\n",
    "import math as m\n",
    "from sklearn.neighbors import KNeighborsClassifier"
   ]
  },
  {
   "cell_type": "markdown",
   "metadata": {},
   "source": [
    "(a). Lasso predictions for diabetes data from Scikit-learn:"
   ]
  },
  {
   "cell_type": "code",
   "execution_count": 2,
   "metadata": {},
   "outputs": [],
   "source": [
    "dia = load_diabetes()\n",
    "X_train,X_test,y_train,y_test = train_test_split(dia['data'],dia['target'],random_state =517)\n",
    "lasso = Lasso().fit(X_train,y_train)\n",
    "residual_square_train = lasso.score(X_train,y_train)\n",
    "residual_square_test = lasso.score(X_test,y_test)"
   ]
  },
  {
   "cell_type": "code",
   "execution_count": 3,
   "metadata": {},
   "outputs": [
    {
     "name": "stdout",
     "output_type": "stream",
     "text": [
      "(a). Lasso Predictions for Diabetes data from Scikit-learn:\n",
      "Training R^2: 0.37862074632457665\n",
      "Test R^2: 0.30047992965748094\n",
      "No of features used: 3\n",
      "Features used:\n",
      "1.bmi\n",
      "2.bp\n",
      "3.s5\n"
     ]
    }
   ],
   "source": [
    "print(\"(a). Lasso Predictions for Diabetes data from Scikit-learn:\")\n",
    "print(\"Training R^2:\",residual_square_train)\n",
    "print(\"Test R^2:\",residual_square_test)\n",
    "print(\"No of features used:\",np.sum(lasso.coef_ != 0))\n",
    "print(\"Features used:\\n1.bmi\\n2.bp\\n3.s5\")"
   ]
  },
  {
   "cell_type": "markdown",
   "metadata": {},
   "source": [
    "(b). Lasso predictions for the Original data loaded from diabetes.data:"
   ]
  },
  {
   "cell_type": "code",
   "execution_count": 4,
   "metadata": {},
   "outputs": [],
   "source": [
    "dia_data = np.genfromtxt('diabetes.data',delimiter = \"\\t\",skip_header = 1,usecols=np.arange(10))\n",
    "dia_target = np.genfromtxt('diabetes.data',delimiter = \"\\t\",skip_header = 1,usecols=10)"
   ]
  },
  {
   "cell_type": "code",
   "execution_count": 5,
   "metadata": {},
   "outputs": [
    {
     "name": "stdout",
     "output_type": "stream",
     "text": [
      "(b).Lasso predictions for the Original data loaded from diabetes.data:\n",
      "Training R^2: 0.5163238199482338\n",
      "Test R^2: 0.46042783895046974\n",
      "No of features used: 9\n"
     ]
    }
   ],
   "source": [
    "X_t,X_te,y_t,y_te = train_test_split(dia_data,dia_target,random_state =517)\n",
    "lasso_o = Lasso().fit(X_t,y_t)\n",
    "residual_square_train2 = lasso_o.score(X_t,y_t)\n",
    "residual_square_test2 = lasso_o.score(X_te,y_te)\n",
    "print(\"(b).Lasso predictions for the Original data loaded from diabetes.data:\")\n",
    "print(\"Training R^2:\",residual_square_train2)\n",
    "print(\"Test R^2:\",residual_square_test2)\n",
    "print(\"No of features used:\",np.sum(lasso_o.coef_ != 0))"
   ]
  },
  {
   "cell_type": "markdown",
   "metadata": {},
   "source": [
    "(c). Lasso predictions after normalizing the original data from diabetes.data:"
   ]
  },
  {
   "cell_type": "code",
   "execution_count": 6,
   "metadata": {},
   "outputs": [
    {
     "name": "stdout",
     "output_type": "stream",
     "text": [
      "(c).Lasso predictions after normalizing the original data from diabetes.data:\n",
      "Training R^2: 0.5163238199482338\n",
      "Test R^2: 0.46042783895046974\n",
      "No of features used: 8\n",
      "The values are more closer to item 6(i.e. the values predicted for original data.)\n"
     ]
    }
   ],
   "source": [
    "scaler = StandardScaler()\n",
    "scaler.fit(X_t)\n",
    "X_t_scaled = scaler.transform(X_t)\n",
    "X_te_scaled = scaler.transform(X_te)\n",
    "lasso_s = Lasso().fit(X_t_scaled,y_t)\n",
    "residual_square_train3 = lasso_s.score(X_t_scaled,y_t)\n",
    "residual_square_test3 = lasso_s.score(X_te_scaled,y_te)\n",
    "print(\"(c).Lasso predictions after normalizing the original data from diabetes.data:\")\n",
    "print(\"Training R^2:\",residual_square_train2)\n",
    "print(\"Test R^2:\",residual_square_test2)\n",
    "print(\"No of features used:\",np.sum(lasso_s.coef_ != 0))\n",
    "print(\"The values are more closer to item 6(i.e. the values predicted for original data.)\")"
   ]
  },
  {
   "cell_type": "markdown",
   "metadata": {},
   "source": [
    "Plot between the No of features used and the Test R^2 for differing alpha:"
   ]
  },
  {
   "cell_type": "code",
   "execution_count": 7,
   "metadata": {},
   "outputs": [
    {
     "data": {
      "text/plain": [
       "[<matplotlib.lines.Line2D at 0x1f09be5ec88>]"
      ]
     },
     "execution_count": 7,
     "metadata": {},
     "output_type": "execute_result"
    },
    {
     "data": {
      "image/png": "[encoded data removed]",
      "text/plain": [
       "<Figure size 432x288 with 1 Axes>"
      ]
     },
     "metadata": {
      "needs_background": "light"
     },
     "output_type": "display_data"
    }
   ],
   "source": [
    "test = list()\n",
    "t_coef = list()\n",
    "alpha=[0.1,1,5,10.5,20]\n",
    "plt.title(\"Plot between the No of features used and the Test R^2\")\n",
    "plt.xlabel(\"No of Features\")\n",
    "plt.ylabel(\"Test R^2\")\n",
    "for i in range(len(alpha)):\n",
    "    lasso_9 = Lasso(alpha = alpha[i]).fit(X_t_scaled,y_t)\n",
    "    residual_square_train3 = lasso_9.score(X_t_scaled,y_t)\n",
    "    test.append(lasso_9.score(X_te_scaled,y_te))\n",
    "    t_coef.append(np.sum(lasso_9.coef_ != 0))\n",
    "\n",
    "plt.plot(t_coef,test,marker=\"*\")\n"
   ]
  },
  {
   "cell_type": "markdown",
   "metadata": {},
   "source": [
    "No of features used is 3 and the Test R^2 value is approx to 0.32 - R^2 value is closer to the values predicted for the dataset from scikit-learn.\n",
    "No of Features used is 10 and the Test R^2 value is approx to 0.48 - R^2 is increases resulting to increase in possibility of overfitting.\n",
    "I prefer the points where no of features is 5 or 8, since the Test R^2 is optimal, avoiding overfitting/underfitting."
   ]
  },
  {
   "cell_type": "markdown",
   "metadata": {},
   "source": [
    "(d). Finding the best alpha using cross-validation:"
   ]
  },
  {
   "cell_type": "code",
   "execution_count": 8,
   "metadata": {},
   "outputs": [
    {
     "name": "stdout",
     "output_type": "stream",
     "text": [
      "(d). Best Alpha and resulting Training & Test R^2 and number of features used.\n",
      "\n",
      "Best Alpha: 1\n",
      "Training R^2: 0.5182976710746371\n",
      "Test R^2: 0.4657450926533787\n",
      "No of Features: 8\n"
     ]
    }
   ],
   "source": [
    "best_score=0\n",
    "b_alpha=list()\n",
    "best_alpha=0\n",
    "for i in range(len(alpha)):\n",
    "    lasso_10 = Lasso(alpha = alpha[i])\n",
    "    scores=cross_val_score(lasso_10,X_t_scaled,y_t,cv=5)\n",
    "    score = np.mean(scores)\n",
    "    if best_score==0:\n",
    "        best_score=score\n",
    "    if score >= best_score:\n",
    "        b_alpha.append(alpha[i])\n",
    "        best_score = score\n",
    "        best_alpha = alpha[i]\n",
    "        \n",
    "lasso_b = Lasso(alpha = best_alpha).fit(X_t_scaled,y_t)\n",
    "best_train=lasso_b.score(X_t_scaled,y_t)\n",
    "best_test=lasso_b.score(X_te_scaled,y_te)\n",
    "best_t_coef=np.sum(lasso_b.coef_ != 0)\n",
    "\n",
    "print(\"(d). Best Alpha and resulting Training & Test R^2 and number of features used.\\n\")\n",
    "print(\"Best Alpha:\",best_alpha)\n",
    "print(\"Training R^2:\",best_train)\n",
    "print(\"Test R^2:\",best_test)\n",
    "print(\"No of Features:\",best_t_coef)"
   ]
  },
  {
   "cell_type": "markdown",
   "metadata": {},
   "source": [
    "(e). Inductive Conformal Prediction:"
   ]
  },
  {
   "cell_type": "code",
   "execution_count": 9,
   "metadata": {},
   "outputs": [
    {
     "name": "stdout",
     "output_type": "stream",
     "text": [
      "(e). Inductive Conformal Prediction with significance level - 20%:\n",
      "Length of the Prediction Intervals: 111\n",
      "Test Error Rate: 0.23\n",
      "Inductive Conformal Prediction with significance level - 5%:\n",
      "Length of the Prediction Intervals: 111\n",
      "Test Error Rate: 0.08\n"
     ]
    }
   ],
   "source": [
    "class Lasso_ICP:\n",
    "    def __init__(self,m,sl,x_train,y_train,x_test,y_test):\n",
    "        self.k=int((1-sl)*(m+1))\n",
    "        self.random_state = 517\n",
    "        self.calib_size = 99\n",
    "        self.alpha = 0\n",
    "        self.y_train_p=list()\n",
    "        self.y_valid=list()\n",
    "        self.C =0\n",
    "        self.X_te = x_test\n",
    "        self.y_test = y_test\n",
    "        self.X_t = x_train\n",
    "        self.y_t = y_train\n",
    "        self.alpha_set = [0.1,1,5,10.5,20]\n",
    "        \n",
    "    def main(self):\n",
    "        X_train_p,x_vaild,self.y_train_p,self.y_valid=train_test_split(self.X_t,self.y_t,random_state=self.random_state,test_size=self.calib_size)\n",
    "#        print(X_train_p.shape,x_vaild.shape,y_train_p.shape,y_valid.shape)\n",
    "        scaler.fit(X_train_p)\n",
    "        self.X_t_p_scaled=scaler.transform(X_train_p)\n",
    "        self.X_te_scaled = scaler.transform(self.X_te)\n",
    "        self.X_valid_scaled = scaler.transform(x_vaild)\n",
    "        best_score=0\n",
    "        best_alpha=0\n",
    "        for i in range(len(self.alpha_set)):\n",
    "            lasso_cv = Lasso(alpha = self.alpha_set[i])\n",
    "            scores=cross_val_score(lasso_cv,self.X_t_p_scaled,self.y_train_p,cv=5)\n",
    "            score = np.mean(scores)\n",
    "            if best_score==0:\n",
    "                best_score=score\n",
    "            if score > best_score:\n",
    "                best_score = score\n",
    "                best_alpha = self.alpha_set[i]\n",
    "        self.alpha=best_alpha\n",
    "        accuracy=self.Lasso_ICP()\n",
    "        return accuracy\n",
    "    def length_interval(self,y_interval):\n",
    "        y_length = list()\n",
    "        for y in y_interval:\n",
    "            y_length.append(round(y_interval[i][1]-y_interval[i][0],2))\n",
    "        return np.mean(y_length)\n",
    "    def Lasso_ICP (self):\n",
    "        lasso_c = Lasso(self.alpha).fit(self.X_t_p_scaled,self.y_train_p)\n",
    "        y_calib_pred =lasso_c.predict(self.X_valid_scaled)\n",
    "        scores = self.nonconf_scores(y_calib_pred)\n",
    "        sort_scores = sorted(scores)\n",
    "        self.C = sort_scores[self.k]\n",
    "        y_test_pred = lasso_c.predict(self.X_te_scaled)\n",
    "        y_interval = self.ICP_measure(y_test_pred)\n",
    "        accuracy = self.score(y_interval)\n",
    "        y_length = len(y_interval)\n",
    "        return accuracy,y_length\n",
    "    \n",
    "    def score(self,y_interval):\n",
    "        val =0\n",
    "        for i in range(len(y_interval)):\n",
    "            if self.y_test[i]>=y_interval[i][0] and self.y_test[i]<=y_interval[i][1]:\n",
    "                val+=1\n",
    "        mean_val = val/len(y_interval)\n",
    "        return mean_val\n",
    "    \n",
    "    def ICP_measure(self,y_predict):\n",
    "        y_interval=list()\n",
    "        for y in y_predict:\n",
    "            y_interval.append([y-self.C,y+self.C])\n",
    "        return y_interval\n",
    "    def nonconf_scores(self,y_predict):\n",
    "        scores=list()\n",
    "        for i in range(len(y_predict)):\n",
    "            scores.append(abs(self.y_valid[i]-y_predict[i]))\n",
    "        return scores\n",
    "       \n",
    "icp = Lasso_ICP(99,0.2,X_t,y_t,X_te,y_te) \n",
    "acc,y_length = icp.main()\n",
    "print(\"(e). Inductive Conformal Prediction with significance level - 20%:\")\n",
    "print(\"Length of the Prediction Intervals:\",y_length)\n",
    "print(\"Test Error Rate:\",round(1-acc,2))\n",
    "icp = Lasso_ICP(99,0.05,X_t,y_t,X_te,y_te) \n",
    "acc,y_length = icp.main()\n",
    "print(\"Inductive Conformal Prediction with significance level - 5%:\")\n",
    "print(\"Length of the Prediction Intervals:\",y_length)\n",
    "print(\"Test Error Rate:\",round(1-acc,2)) "
   ]
  },
  {
   "cell_type": "code",
   "execution_count": null,
   "metadata": {},
   "outputs": [],
   "source": []
  }
 ],
 "metadata": {
  "kernelspec": {
   "display_name": "Python 3",
   "language": "python",
   "name": "python3"
  },
  "language_info": {
   "codemirror_mode": {
    "name": "ipython",
    "version": 3
   },
   "file_extension": ".py",
   "mimetype": "text/x-python",
   "name": "python",
   "nbconvert_exporter": "python",
   "pygments_lexer": "ipython3",
   "version": "3.7.0"
  }
 },
 "nbformat": 4,
 "nbformat_minor": 2
}
